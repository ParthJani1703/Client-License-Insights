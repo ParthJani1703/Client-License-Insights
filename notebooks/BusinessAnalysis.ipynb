{
 "cells": [
  {
   "cell_type": "code",
   "execution_count": 9,
   "id": "a3fb15f5-194c-499b-841e-4fc28a442d82",
   "metadata": {},
   "outputs": [],
   "source": [
    "import pandas as pd\n",
    "\n",
    "# Define your base project path\n",
    "base_path = r\"E:\\Documents\\Parth\\Careers\\Projects\"\n",
    "\n",
    "# Load CSVs\n",
    "customer_df = pd.read_csv(f\"{base_path}\\\\CustomerProfile.csv\")\n",
    "usage_df = pd.read_csv(f\"{base_path}\\\\LicenseUsage.csv\", parse_dates=['LoginDate'])\n",
    "support_df = pd.read_csv(f\"{base_path}\\\\SupportTickets.csv\", parse_dates=['Date'], dayfirst=True)\n",
    "engage_df = pd.read_csv(f\"{base_path}\\\\EngagementData.csv\", parse_dates=['LastMeetingDate'], dayfirst=True)"
   ]
  },
  {
   "cell_type": "code",
   "execution_count": 11,
   "id": "a42f6527-2d6f-4d0f-a4dd-000401da5d6e",
   "metadata": {},
   "outputs": [],
   "source": [
    "usage_summary = usage_df.groupby(['ClientID', 'Product']).size().reset_index(name='UsageCount')"
   ]
  },
  {
   "cell_type": "code",
   "execution_count": 13,
   "id": "327b6136-bdc7-4a0d-91b4-948f93f4aa90",
   "metadata": {},
   "outputs": [],
   "source": [
    "client_usage = usage_df.groupby('ClientID').size().reset_index(name='TotalUsage')\n",
    "quantiles = client_usage['TotalUsage'].quantile([0.2, 0.8])\n",
    "low_threshold = quantiles[0.2]\n",
    "high_threshold = quantiles[0.8]\n",
    "\n",
    "client_usage['UsageTier'] = client_usage['TotalUsage'].apply(\n",
    "    lambda x: 'Bottom 20%' if x <= low_threshold else ('Top 20%' if x >= high_threshold else 'Middle 60%')\n",
    ")"
   ]
  },
  {
   "cell_type": "code",
   "execution_count": 15,
   "id": "b8e95e6c-2321-4ed8-9a8e-847db8d3f513",
   "metadata": {},
   "outputs": [],
   "source": [
    "# Total support volume per client\n",
    "support_summary = support_df.groupby('ClientID').agg({\n",
    "    'TicketID': 'count',\n",
    "    'ResolutionTimeHours': 'mean'\n",
    "}).rename(columns={'TicketID': 'TotalTickets', 'ResolutionTimeHours': 'AvgResolutionTime'})\n",
    "\n",
    "# Merge with engagement data\n",
    "engage_df['FollowUps'] = engage_df['FollowUps'].fillna(0)\n",
    "engage_df['DemosHeld'] = engage_df['DemosHeld'].fillna(0)\n",
    "engage_df['EngagementScore'] = engage_df['DemosHeld'] + engage_df['FollowUps']\n",
    "\n",
    "engage_support = pd.merge(engage_df, support_summary, on='ClientID', how='left').fillna(0)"
   ]
  },
  {
   "cell_type": "code",
   "execution_count": 17,
   "id": "d4578805-fd0e-4425-9c51-295d39996006",
   "metadata": {},
   "outputs": [],
   "source": [
    "# Merge license data\n",
    "license_summary = pd.merge(customer_df[['ClientID', 'LicensesPurchased']], client_usage, on='ClientID', how='left').fillna(0)\n",
    "license_summary['IdleLicenses'] = license_summary['LicensesPurchased'] - license_summary['TotalUsage']"
   ]
  },
  {
   "cell_type": "code",
   "execution_count": 21,
   "id": "dbba2b7f-0453-44b4-bb3e-2f2ff4d0796e",
   "metadata": {},
   "outputs": [
    {
     "data": {
      "image/png": "[encoded data removed]",
      "text/plain": [
       "<Figure size 800x500 with 1 Axes>"
      ]
     },
     "metadata": {},
     "output_type": "display_data"
    }
   ],
   "source": [
    "import matplotlib.pyplot as plt\n",
    "import seaborn as sns\n",
    "\n",
    "plt.figure(figsize=(8, 5))\n",
    "sns.barplot(\n",
    "    data=license_summary,\n",
    "    x='ClientID',\n",
    "    y='IdleLicenses',\n",
    "    hue='ClientID',           # Add this\n",
    "    palette='Reds',\n",
    "    legend=False              # And this\n",
    ")\n",
    "plt.title('Idle Licenses by Client')\n",
    "plt.ylabel('Number of Idle Licenses')\n",
    "plt.xlabel('Client')\n",
    "plt.tight_layout()\n",
    "plt.show()"
   ]
  },
  {
   "cell_type": "code",
   "execution_count": 23,
   "id": "3ebf37d5-b649-44d7-a9ed-ba832244abae",
   "metadata": {},
   "outputs": [
    {
     "name": "stdout",
     "output_type": "stream",
     "text": [
      "  ClientID       CompanyName  TotalUsage  EngagementScore  TotalTickets  \\\n",
      "0     C001  MechInnovate Ltd           2                8           2.0   \n",
      "1     C002    AeroStruct Inc           1                2           0.0   \n",
      "2     C003         BuildCore           1                6           1.0   \n",
      "3     C004       RapidTorque           1                3           1.0   \n",
      "\n",
      "  RiskStatus  \n",
      "0  ✅ Healthy  \n",
      "1  ✅ Healthy  \n",
      "2  ✅ Healthy  \n",
      "3  ✅ Healthy  \n"
     ]
    }
   ],
   "source": [
    "# Define risk criteria\n",
    "def risk_flag(row):\n",
    "    return '⚠️ At Risk' if (row['EngagementScore'] <= 2 and row['TotalTickets'] >= 2 and row['TotalUsage'] <= 20) else '✅ Healthy'\n",
    "\n",
    "# Merge all data together\n",
    "merged_df = customer_df.merge(client_usage, on='ClientID', how='left').merge(engage_support, on='ClientID', how='left')\n",
    "merged_df['RiskStatus'] = merged_df.apply(risk_flag, axis=1)\n",
    "\n",
    "# Display Risk Summary\n",
    "print(merged_df[['ClientID', 'CompanyName', 'TotalUsage', 'EngagementScore', 'TotalTickets', 'RiskStatus']])"
   ]
  },
  {
   "cell_type": "code",
   "execution_count": null,
   "id": "f7e3437b-0b64-48cc-bbe5-ae8f14894bde",
   "metadata": {},
   "outputs": [],
   "source": []
  }
 ],
 "metadata": {
  "kernelspec": {
   "display_name": "Python 3 (ipykernel)",
   "language": "python",
   "name": "python3"
  },
  "language_info": {
   "codemirror_mode": {
    "name": "ipython",
    "version": 3
   },
   "file_extension": ".py",
   "mimetype": "text/x-python",
   "name": "python",
   "nbconvert_exporter": "python",
   "pygments_lexer": "ipython3",
   "version": "3.12.4"
  }
 },
 "nbformat": 4,
 "nbformat_minor": 5
}
